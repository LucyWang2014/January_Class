{
 "metadata": {
  "name": "",
  "signature": "sha256:12a79a9291811d29953fa1b38a4f948e6a6fa42d551cd3ad33ee89f9f38b4787"
 },
 "nbformat": 3,
 "nbformat_minor": 0,
 "worksheets": [
  {
   "cells": [
    {
     "cell_type": "code",
     "collapsed": false,
     "input": [
      "import matplotlib.pyplot as plt\n",
      "import matplotlib as mpl\n",
      "import numpy as np\n",
      "import pandas as pd\n",
      "import scipy as sp\n",
      "from sklearn import mixture\n",
      "from sklearn import datasets\n",
      "from sklearn.decomposition import PCA\n",
      "from sklearn.metrics import confusion_matrix"
     ],
     "language": "python",
     "metadata": {},
     "outputs": []
    }
   ],
   "metadata": {}
  }
 ]
}