{
 "metadata": {
  "name": "",
  "signature": "sha256:69ee12d2abd89cb24982bcdf3abe51a44cb874ea7b4d1a51fed1d32b24768632"
 },
 "nbformat": 3,
 "nbformat_minor": 0,
 "worksheets": [
  {
   "cells": [
    {
     "cell_type": "code",
     "collapsed": false,
     "input": [
      "import matplotlib.pyplot as plt\n",
      "import matplotlib as mpl\n",
      "import numpy as np\n",
      "import pandas as pd\n",
      "import scipy as sp\n",
      "from sklearn import mixture\n",
      "from sklearn import datasets\n",
      "from sklearn.decomposition import PCA\n",
      "from sklearn.metrics import confusion_matrix"
     ],
     "language": "python",
     "metadata": {},
     "outputs": []
    },
    {
     "cell_type": "code",
     "collapsed": false,
     "input": [
      "# import iris data\n",
      "iris = datasets.load_iris()\n",
      "X = iris.data\n",
      "Y = iris.target"
     ],
     "language": "python",
     "metadata": {},
     "outputs": []
    },
    {
     "cell_type": "code",
     "collapsed": false,
     "input": [
      "def pairs(X,target=None,labels=None,cmap='rainbow',figsize=(12,12),spacing=0.1):\n",
      "    \"\"\"produce a crude R 'pairs' plot\n",
      "       X: array of features\n",
      "       target: classifications (if available)\n",
      "    \"\"\"\n",
      "    #setup graphics device (maybe this belongs outside function)\n",
      "    plt.figure(figsize=figsize)\n",
      "    plt.subplots_adjust(wspace=spacing,hspace=spacing)\n",
      "    dims = X.shape\n",
      "    n = dims[1] #assumes the input is 2D\n",
      "    if target is None:\n",
      "        target=1 #just plot the first color\n",
      "    if labels is None:\n",
      "        labels=n*[\"\"] #no labels\n",
      "    for i in range(0,n-1):\n",
      "        for j in range(i+1,n):\n",
      "            plt.subplot(n-1, n-1, (j-1)*(n-1)+i+1)\n",
      "            plt.scatter(X[:, i], X[:, j],c=target,cmap=cmap)\n",
      "            if j==n-1:\n",
      "                plt.xlabel(labels[i])\n",
      "            if i==0:\n",
      "                plt.ylabel(labels[j])\n",
      "    plt.show()"
     ],
     "language": "python",
     "metadata": {},
     "outputs": []
    },
    {
     "cell_type": "code",
     "collapsed": false,
     "input": [
      "cmap = mpl.colors.ListedColormap(['b', 'y', 'r'])\n",
      "pairs(iris.data,Y,iris.feature_names,cmap=cmap)"
     ],
     "language": "python",
     "metadata": {},
     "outputs": []
    },
    {
     "cell_type": "code",
     "collapsed": false,
     "input": [
      "simNagin = pd.read_stata(\"simNagin.dta\")\n",
      "nagin_mat = simNagin.as_matrix()[:,range(12,22)]\n",
      "g = mixture.GMM(covariance_type='spherical',n_components=3)\n",
      "g = mixture.GMM(covariance_type='full',n_components=3)\n",
      "g = mixture.GMM(covariance_type='pairs',n_components=3)\n",
      "\n",
      "g.fit(nagin_mat) \n",
      "gps = g.predict(nagin_mat)\n",
      "cm = confusion_matrix(simNagin[\"Group\"]-1,gps)\n",
      "print cm\n",
      "plt.matshow(cm)\n",
      "g.bic(nagin_mat)"
     ],
     "language": "python",
     "metadata": {},
     "outputs": []
    },
    {
     "cell_type": "code",
     "collapsed": false,
     "input": [
      "def num_corr(x): \n",
      "    \"\"\"\n",
      "    permute cols of x to find maximal diagonal sum (maximal correctly classified)\n",
      "    \"\"\"\n",
      "    import itertools as it\n",
      "    max_t = 0\n",
      "    n = x.shape[1]\n",
      "    perm = range(n)\n",
      "    for i in it.permutations(range(n)):\n",
      "        new_t = np.diag(x[:,i]).sum()\n",
      "        if new_t>max_t:\n",
      "            max_t = new_t\n",
      "            perm = i\n",
      "    return max_t,perm,x[:,perm]"
     ],
     "language": "python",
     "metadata": {},
     "outputs": []
    },
    {
     "cell_type": "code",
     "collapsed": false,
     "input": [
      "X_reduced = PCA(n_components=5).fit_transform(obs) #running on PCs seems to correct the convergence problem\n",
      "g = mixture.GMM(covariance_type='diag',n_components=4) \n",
      "g.fit(X_reduced)\n",
      "gps =g.predict(X_reduced)\n",
      "cm = confusion_matrix(target[\"code\"],gps)\n",
      "print 'latent means:\\n',np.around(g.means_,1),'\\n\\nlatent covars:\\n',np.around(g.covars_,1)\n",
      "print '\\nbic=',round(g.bic(X_reduced),2)\n",
      "mx,perm,arr=num_corr(cm)\n",
      "print 'Maximum correct=',mx\n",
      "print 'Confusion Matrix:\\n',arr\n",
      "plt.matshow(cm)"
     ],
     "language": "python",
     "metadata": {},
     "outputs": []
    },
    {
     "cell_type": "code",
     "collapsed": false,
     "input": [
      "g = mixture.GMM(covariance_type='spherical',n_components=4) \n",
      "g.fit(X_reduced)\n",
      "gps =g.predict(X_reduced)\n",
      "cm = confusion_matrix(target[\"code\"],gps)\n",
      "print 'latent means:\\n',np.around(g.means_,1),'\\n\\nlatent covars:\\n',np.around(g.covars_,1)\n",
      "print '\\nbic=',round(g.bic(X_reduced),2)\n",
      "mx,perm,arr=num_corr(cm)\n",
      "print 'Maximum correct=',mx\n",
      "print 'Confusion Matrix:\\n',arr\n",
      "plt.matshow(cm)"
     ],
     "language": "python",
     "metadata": {},
     "outputs": []
    },
    {
     "cell_type": "code",
     "collapsed": false,
     "input": [
      "g = mixture.GMM(covariance_type='tied',n_components=4) #for some reason only full works\n",
      "g.fit(X_reduced)\n",
      "gps =g.predict(X_reduced)\n",
      "cm = confusion_matrix(target[\"code\"],gps)\n",
      "print 'latent means:\\n',np.around(g.means_,1),'\\n\\nlatent covars:\\n',np.around(g.covars_,1)\n",
      "print '\\nbic=',round(g.bic(X_reduced),2)\n",
      "mx,perm,arr=num_corr(cm)\n",
      "print 'Maximum correct=',mx\n",
      "print 'Confusion Matrix:\\n',arr\n",
      "plt.matshow(cm)"
     ],
     "language": "python",
     "metadata": {},
     "outputs": []
    },
    {
     "cell_type": "code",
     "collapsed": false,
     "input": [
      "g = mixture.GMM(covariance_type='full',n_components=4) #for some reason only full works\n",
      "g.fit(X_reduced)\n",
      "gps =g.predict(X_reduced)\n",
      "cm = confusion_matrix(target[\"code\"],gps)\n",
      "print 'latent means:\\n',np.around(g.means_,1),'\\n\\nlatent covars:\\n',np.around(g.covars_,1)\n",
      "print '\\nbic=',round(g.bic(X_reduced),2)\n",
      "mx,perm,arr=num_corr(cm)\n",
      "print 'Maximum correct=',mx\n",
      "print 'Confusion Matrix:\\n',arr\n",
      "plt.matshow(cm)"
     ],
     "language": "python",
     "metadata": {},
     "outputs": []
    },
    {
     "cell_type": "code",
     "collapsed": false,
     "input": [
      "def make_ellipses(gmm, ax, dim=(0,1),scale=9):\n",
      "    ncomp = gmm.n_components\n",
      "    cols = ((1+ncomp/6)*'byrgcm')[0:ncomp]\n",
      "    for n, color in enumerate(cols):\n",
      "        v, w = np.linalg.eigh(gmm._get_covars()[n][:,dim][dim,:])\n",
      "        u = w[0] / np.linalg.norm(w[0])\n",
      "        angle = np.arctan2(u[1], u[0])\n",
      "        angle = 180 * angle / np.pi  # convert to degrees\n",
      "        v *= scale\n",
      "        ell = mpl.patches.Ellipse(gmm.means_[n, dim], v[0], v[1],\n",
      "                                  180 + angle, color=color)\n",
      "        ell.set_clip_box(ax.bbox)\n",
      "        ell.set_alpha(0.5)\n",
      "        ax.add_artist(ell)"
     ],
     "language": "python",
     "metadata": {},
     "outputs": []
    },
    {
     "cell_type": "code",
     "collapsed": false,
     "input": [
      "plt.figure(figsize=(12,6))\n",
      "plt.subplots_adjust(bottom=.01, top=0.95, hspace=.15, wspace=.05,\n",
      "                    left=.01, right=.99)\n",
      "h = plt.subplot(1, 2, 1)\n",
      "make_ellipses(g,h,dim=(1,2),scale=4)\n",
      "colStr = list('byrg')\n",
      "newColStr= ''.join([colStr[i] for i in perm])\n",
      "for n, color in enumerate(newColStr):\n",
      "    data = X_reduced[np.array(target[\"code\"] == n),]\n",
      "    plt.scatter(data[:, 1], data[:, 2], s=5,color=color)\n",
      "plt.show()"
     ],
     "language": "python",
     "metadata": {},
     "outputs": []
    }
   ],
   "metadata": {}
  }
 ]
}